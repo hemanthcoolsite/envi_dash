{
 "cells": [
  {
   "cell_type": "code",
   "execution_count": 1,
   "id": "1931ecc0",
   "metadata": {},
   "outputs": [],
   "source": [
    "def datascraper(Bs_data):\n",
    "    #f=open(file, 'r')\n",
    "    #data = f.read()\n",
    "    #Bs_data = BeautifulSoup(data, \"xml\")\n",
    "    #all the values need to be collect\n",
    "    env_n = Bs_data.find('project')\n",
    "    env_n = env_n.get('name') if env_n != None else env_n\n",
    "    \n",
    "    ta_n = Bs_data.find('property', {'name':'ics.release'}).get('value')\n",
    "    ocs_v = Bs_data.find('property', {'name':'ics_release_ocs'})\n",
    "    ocs_v = ocs_v.get('value') if ocs_v != None else ocs_v\n",
    "    \n",
    "    wsc_v = Bs_data.find('property', {'name':'ics_release_wsc'})\n",
    "    wsc_v = wsc_v.get('value') if wsc_v != None else wsc_v\n",
    "    \n",
    "    host_n = Bs_data.find('property', {'name':'host'}).get('value')\n",
    "    db = Bs_data.find('property', {'name':'aaa_rdbms'})\n",
    "    db = db.get('value') if db != None else db\n",
    "    \n",
    "    user = Bs_data.find('property', {'name':'os_username'}).get('value')\n",
    "    psw = Bs_data.find('property', {'name':'os_password'}).get('value')\n",
    "    \n",
    "    cols=[env_n, ta_n, ocs_v, wsc_v, host_n, db, user, psw]\n",
    "    #return the list object of dictionary\n",
    "    return cols"
   ]
  },
  {
   "cell_type": "code",
   "execution_count": null,
   "id": "67905975",
   "metadata": {},
   "outputs": [],
   "source": []
  },
  {
   "cell_type": "code",
   "execution_count": 11,
   "id": "0e0fd232",
   "metadata": {},
   "outputs": [
    {
     "name": "stdout",
     "output_type": "stream",
     "text": [
      "computetion time#0:05:29.245065,total time#0:05:33.090482\n"
     ]
    }
   ],
   "source": [
    "from bs4 import BeautifulSoup\n",
    "from selenium import webdriver\n",
    "import csv\n",
    "import pandas as ps\n",
    "from datetime import datetime\n",
    "#import json\n",
    "###\n",
    "t_start1=datetime.now()\n",
    "###\n",
    "file_N = 'Envs_Details.csv'\n",
    "f=open(file_N,'w',newline='')\n",
    "var = csv.writer(f)\n",
    "row_1st=['ENV_NAME','TA_VERSION','OCS_VERSION','WSC_VERSION','HOSTNAME','DB','USERNAME','PASSWORD']\n",
    "var.writerow(row_1st)\n",
    "####web driver to xml from web\n",
    "e_driver = webdriver.Edge(r\"msedgedriver.exe\")\n",
    "url='https://lausvn.temenosgroup.com/svn/devel/internal/ENV/Deployment/TA/ta_deployer/'\n",
    "####\n",
    "col_name = [\"ENVS\"]\n",
    "link_path='inputlinks.csv' #paste path for thr asin file\n",
    "df = ps.read_csv(link_path, names=col_name)\n",
    "input_files =df.ENVS.to_list()\n",
    "###\n",
    "t_start2=datetime.now()\n",
    "wast=[]\n",
    "tlist=['Template/CIP_LX_VM_ORA2_ta_21.0.17.xml','Template/CIP_LX_VM_ORA2_tap_23.0.04_wsc1.3.01_mesi.xml']\n",
    "for link in input_files:\n",
    "    if '.xml' in link or '.template' not in link and '.txt' not in link:\n",
    "        if link == 'Template/':\n",
    "            for i in tlist:\n",
    "                e_driver.get(url+i)\n",
    "                data = BeautifulSoup(e_driver.page_source)\n",
    "                cols = datascraper(data) \n",
    "                var.writerow(cols)\n",
    "        else:\n",
    "            e_driver.get(url+link)\n",
    "            data = BeautifulSoup(e_driver.page_source)\n",
    "            cols = datascraper(data) \n",
    "            var.writerow(cols)\n",
    "    else:\n",
    "        wast.append(link)\n",
    "        continue\n",
    "f.close()\n",
    "t_end=datetime.now()\n",
    "compu_time=t_end-t_start2\n",
    "comple_time = t_end-t_start1\n",
    "print(f'computetion time#{t_end-t_start2},total time#{t_end-t_start1}')"
   ]
  },
  {
   "cell_type": "code",
   "execution_count": null,
   "id": "a1e03f22",
   "metadata": {},
   "outputs": [],
   "source": []
  },
  {
   "cell_type": "code",
   "execution_count": null,
   "id": "66415b4b",
   "metadata": {},
   "outputs": [],
   "source": []
  },
  {
   "cell_type": "code",
   "execution_count": null,
   "id": "e145635c",
   "metadata": {},
   "outputs": [],
   "source": []
  },
  {
   "cell_type": "code",
   "execution_count": null,
   "id": "6b2108fd",
   "metadata": {},
   "outputs": [],
   "source": []
  },
  {
   "cell_type": "code",
   "execution_count": 11,
   "id": "6c751d8a",
   "metadata": {},
   "outputs": [
    {
     "name": "stdout",
     "output_type": "stream",
     "text": [
      "computetion time#0:14:24.084972,total time#0:14:24.091632\n"
     ]
    }
   ],
   "source": [
    "from bs4 import BeautifulSoup\n",
    "import urllib.request\n",
    "import csv\n",
    "import pandas as ps\n",
    "from datetime import datetime\n",
    "#import json\n",
    "###\n",
    "t_start1=datetime.now()\n",
    "###\n",
    "file_N = 'Envs_Details.csv'\n",
    "f=open(file_N,'w',newline='')\n",
    "var = csv.writer(f)\n",
    "row_1st=['ENV_NAME','TA_VERSION','OCS_VERSION','WSC_VERSION','HOSTNAME','DB','USERNAME','PASSWORD']\n",
    "var.writerow(row_1st)\n",
    "####web driver to xml from web\n",
    "opener = urllib.request.build_opener()\n",
    "url='https://lausvn.temenosgroup.com/svn/devel/internal/ENV/Deployment/TA/ta_deployer/'\n",
    "####\n",
    "col_name = [\"ENVS\"]\n",
    "link_path='inputlinks.csv' #paste path for thr asin file\n",
    "df = ps.read_csv(link_path, names=col_name)\n",
    "input_files =df.ENVS.to_list()\n",
    "###\n",
    "tlist=['Template/CIP_LX_VM_ORA2_ta_21.0.17.xml','Template/CIP_LX_VM_ORA2_tap_23.0.04_wsc1.3.01_mesi.xml']\n",
    "for link in input_files:\n",
    "    if '.xml' in link or '.template' not in link and '.txt' not in link:\n",
    "        if link == 'Template/':\n",
    "            for i in tlist:\n",
    "                file = opener.open(url+i)\n",
    "                res = file.read()\n",
    "                file.close()\n",
    "                data = BeautifulSoup(res)\n",
    "                cols = datascraper(data.find('project')) \n",
    "                var.writerow(cols)\n",
    "        else:\n",
    "            file = opener.open(url+link)\n",
    "                res = file.read()\n",
    "                file.close()\n",
    "                data = BeautifulSoup(res)\n",
    "                cols = datascraper(data.find('project')) \n",
    "                var.writerow(cols)\n",
    "    else:\n",
    "        continue\n",
    "f.close()\n",
    "t_end=datetime.now()\n",
    "print(f'computetion time#{comple_time = t_end-t_start1\n",
    "}')"
   ]
  }
 ],
 "metadata": {
  "kernelspec": {
   "display_name": "Python 3",
   "language": "python",
   "name": "python3"
  },
  "language_info": {
   "codemirror_mode": {
    "name": "ipython",
    "version": 3
   },
   "file_extension": ".py",
   "mimetype": "text/x-python",
   "name": "python",
   "nbconvert_exporter": "python",
   "pygments_lexer": "ipython3",
   "version": "3.8.8"
  }
 },
 "nbformat": 4,
 "nbformat_minor": 5
}
